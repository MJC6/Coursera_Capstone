{
 "cells": [
  {
   "cell_type": "markdown",
   "metadata": {},
   "source": [
    "#### https://dataplatform.cloud.ibm.com/analytics/notebooks/v2/992b4317-231d-4182-9ae2-13b8c41a0b32/view?access_token=d8bd5f3ba4db2aaf166d6058c2d35e36b0d4eef167a83ac824cee19ad621ead3"
   ]
  }
 }
